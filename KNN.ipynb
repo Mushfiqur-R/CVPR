{
  "nbformat": 4,
  "nbformat_minor": 0,
  "metadata": {
    "colab": {
      "provenance": []
    },
    "kernelspec": {
      "name": "python3",
      "display_name": "Python 3"
    },
    "language_info": {
      "name": "python"
    }
  },
  "cells": [
    {
      "cell_type": "markdown",
      "source": [
        "**Library Import**"
      ],
      "metadata": {
        "id": "YFsBPMxWpe39"
      }
    },
    {
      "cell_type": "code",
      "execution_count": 2,
      "metadata": {
        "id": "k1rsGsPDflxA"
      },
      "outputs": [],
      "source": [
        "import os\n",
        "import cv2\n",
        "from tqdm import tqdm"
      ]
    },
    {
      "cell_type": "markdown",
      "source": [
        "**mount google drive**"
      ],
      "metadata": {
        "id": "ZUPlqBwMplNq"
      }
    },
    {
      "cell_type": "code",
      "source": [
        "from google.colab import drive\n",
        "drive.mount('/content/drive')"
      ],
      "metadata": {
        "colab": {
          "base_uri": "https://localhost:8080/"
        },
        "id": "z1fS9rtnf1O8",
        "outputId": "ed789ad8-e1d3-4cf5-d61b-c53553380516"
      },
      "execution_count": 3,
      "outputs": [
        {
          "output_type": "stream",
          "name": "stdout",
          "text": [
            "Mounted at /content/drive\n"
          ]
        }
      ]
    },
    {
      "cell_type": "markdown",
      "source": [
        "**Load image function to Load the images**"
      ],
      "metadata": {
        "id": "OdP5otIrpu2K"
      }
    },
    {
      "cell_type": "code",
      "source": [
        "import os\n",
        "import cv2\n",
        "import numpy as np\n",
        "cat_img = []\n",
        "dog_img = []\n",
        "panda_img = []\n",
        "basepath = '/content/drive/MyDrive/Dataset o 300 image'\n",
        "def load_images(folder, label):\n",
        "    images = []\n",
        "    labels = []\n",
        "    for filename in os.listdir(folder):\n",
        "        path = os.path.join(folder, filename)\n",
        "        img = cv2.imread(path)\n",
        "        if img is not None:\n",
        "            img = cv2.resize(img, (64, 64))\n",
        "            img = img.flatten()\n",
        "            images.append(img)\n",
        "            labels.append(label)\n",
        "    return images, labels"
      ],
      "metadata": {
        "id": "0WF6RwMkf_Y0"
      },
      "execution_count": 4,
      "outputs": []
    },
    {
      "cell_type": "markdown",
      "source": [
        "**Convet to numpy array**"
      ],
      "metadata": {
        "id": "0lwH6J84qTsT"
      }
    },
    {
      "cell_type": "code",
      "source": [
        "basepath = '/content/drive/MyDrive/Dataset o 300 image'\n",
        "cat_img, cat_labels = load_images(os.path.join(basepath, 'Cat'), 0)\n",
        "dog_img, dog_labels = load_images(os.path.join(basepath, 'Dog'), 1)\n",
        "panda_img, panda_labels = load_images(os.path.join(basepath, 'Panda'), 2)\n",
        "X = np.array(cat_img + dog_img + panda_img)\n",
        "y = np.array(cat_labels + dog_labels + panda_labels)"
      ],
      "metadata": {
        "id": "2D49ZChhgdA9"
      },
      "execution_count": 5,
      "outputs": []
    },
    {
      "cell_type": "markdown",
      "source": [
        "**Suffling the images**"
      ],
      "metadata": {
        "id": "fGqsITQpg2YN"
      }
    },
    {
      "cell_type": "code",
      "source": [
        "indices = np.arange(len(X))\n",
        "np.random.shuffle(indices)\n",
        "\n",
        "X = X[indices]\n",
        "y = y[indices]\n"
      ],
      "metadata": {
        "id": "f593zS0ig4Xd"
      },
      "execution_count": 6,
      "outputs": []
    },
    {
      "cell_type": "markdown",
      "source": [
        "**Euclidean distence measurement  function to implement KNN**"
      ],
      "metadata": {
        "id": "CDATgJ-VCuqN"
      }
    },
    {
      "cell_type": "code",
      "source": [
        "def euclidean_distance(a, b):\n",
        "    return np.sqrt(np.sum((a - b) ** 2))\n",
        "\n",
        "def predict(X_train, y_train, x_test, k):\n",
        "    distances = []\n",
        "    for i in range(len(X_train)):\n",
        "        dist = euclidean_distance(X_train[i], x_test)\n",
        "        distances.append((dist, y_train[i]))\n",
        "    distances.sort(key=lambda x: x[0])\n",
        "    k_labels = [label for _, label in distances[:k]]\n",
        "    return max(set(k_labels), key=k_labels.count)\n"
      ],
      "metadata": {
        "id": "M8wqBoMig6XW"
      },
      "execution_count": 7,
      "outputs": []
    },
    {
      "cell_type": "markdown",
      "source": [
        "**5 Fold Cross validation and KNN implementation**"
      ],
      "metadata": {
        "id": "TmeCeC1AFIwL"
      }
    },
    {
      "cell_type": "code",
      "source": [
        "import matplotlib.pyplot as plt\n",
        "import random\n",
        "\n",
        "def create_folds(X, y, num_folds=5):\n",
        "    data = list(zip(X, y))\n",
        "    random.shuffle(data)\n",
        "    fold_size = len(data) // num_folds\n",
        "    folds = []\n",
        "    for i in range(num_folds):\n",
        "        start = i * fold_size\n",
        "        end = (i+1)*fold_size if i < num_folds - 1 else len(data)\n",
        "        fold = data[start:end]\n",
        "        X_fold, y_fold = zip(*fold)\n",
        "        folds.append((np.array(X_fold), np.array(y_fold)))\n",
        "    return folds\n",
        "\n",
        "k_values = list(range(1, 21))  # k=1 to 20\n",
        "folds = create_folds(X, y, num_folds=5)\n",
        "\n",
        "# store fold-wise accuracy\n",
        "fold_accuracies = [[] for _ in range(5)]\n",
        "average_accuracies = []\n",
        "\n",
        "for k in k_values:\n",
        "    fold_acc = []\n",
        "    for i in range(5):\n",
        "        X_valid, y_valid = folds[i]\n",
        "        X_train = np.concatenate([folds[j][0] for j in range(5) if j != i])\n",
        "        y_train = np.concatenate([folds[j][1] for j in range(5) if j != i])\n",
        "\n",
        "        correct = 0\n",
        "        for idx in range(len(X_valid)):\n",
        "            pred = predict(X_train, y_train, X_valid[idx], k)\n",
        "            if pred == y_valid[idx]:\n",
        "                correct += 1\n",
        "        acc = correct / len(X_valid)\n",
        "        fold_accuracies[i].append(acc)\n",
        "        fold_acc.append(acc)\n",
        "\n",
        "    avg_acc = np.mean(fold_acc)\n",
        "    average_accuracies.append(avg_acc)\n",
        "# for idx, k in enumerate(k_values):\n",
        "#     print(f\"\\n  K = {k}\")\n",
        "#     for fold in range(5):\n",
        "#         print(f\"  Fold {fold+1} Accuracy: {fold_accuracies[fold][idx]*100:.2f}%\")\n",
        "#     print(f\"   Average Accuracy: {average_accuracies[idx]*100:.2f}%\")\n",
        "for fold_num in range(5):\n",
        "    print(f\"\\nFold {fold_num + 1}:\")\n",
        "    for idx, k in enumerate(k_values):\n",
        "        acc = fold_accuracies[fold_num][idx] * 100\n",
        "        print(f\"  Accuracy for k={k}: {acc:.2f}%\")\n",
        "    print(f\"   Average Accuracy: {average_accuracies[idx]*100:.2f}%\")\n"
      ],
      "metadata": {
        "colab": {
          "base_uri": "https://localhost:8080/"
        },
        "id": "bJbZFnWMhAR8",
        "outputId": "3d805b39-3817-458e-c4b6-e5d9e17c6fd9"
      },
      "execution_count": 10,
      "outputs": [
        {
          "output_type": "stream",
          "name": "stdout",
          "text": [
            "\n",
            "Fold 1:\n",
            "  Accuracy for k=1: 41.67%\n",
            "  Accuracy for k=2: 41.67%\n",
            "  Accuracy for k=3: 43.33%\n",
            "  Accuracy for k=4: 46.67%\n",
            "  Accuracy for k=5: 43.33%\n",
            "  Accuracy for k=6: 40.00%\n",
            "  Accuracy for k=7: 40.00%\n",
            "  Accuracy for k=8: 38.33%\n",
            "  Accuracy for k=9: 43.33%\n",
            "  Accuracy for k=10: 38.33%\n",
            "  Accuracy for k=11: 48.33%\n",
            "  Accuracy for k=12: 45.00%\n",
            "  Accuracy for k=13: 45.00%\n",
            "  Accuracy for k=14: 45.00%\n",
            "  Accuracy for k=15: 43.33%\n",
            "  Accuracy for k=16: 40.00%\n",
            "  Accuracy for k=17: 41.67%\n",
            "  Accuracy for k=18: 45.00%\n",
            "  Accuracy for k=19: 48.33%\n",
            "  Accuracy for k=20: 51.67%\n",
            "   Average Accuracy: 44.67%\n",
            "\n",
            "Fold 2:\n",
            "  Accuracy for k=1: 45.00%\n",
            "  Accuracy for k=2: 38.33%\n",
            "  Accuracy for k=3: 33.33%\n",
            "  Accuracy for k=4: 36.67%\n",
            "  Accuracy for k=5: 41.67%\n",
            "  Accuracy for k=6: 36.67%\n",
            "  Accuracy for k=7: 41.67%\n",
            "  Accuracy for k=8: 40.00%\n",
            "  Accuracy for k=9: 38.33%\n",
            "  Accuracy for k=10: 45.00%\n",
            "  Accuracy for k=11: 40.00%\n",
            "  Accuracy for k=12: 43.33%\n",
            "  Accuracy for k=13: 36.67%\n",
            "  Accuracy for k=14: 38.33%\n",
            "  Accuracy for k=15: 36.67%\n",
            "  Accuracy for k=16: 38.33%\n",
            "  Accuracy for k=17: 40.00%\n",
            "  Accuracy for k=18: 41.67%\n",
            "  Accuracy for k=19: 36.67%\n",
            "  Accuracy for k=20: 38.33%\n",
            "   Average Accuracy: 44.67%\n",
            "\n",
            "Fold 3:\n",
            "  Accuracy for k=1: 45.00%\n",
            "  Accuracy for k=2: 41.67%\n",
            "  Accuracy for k=3: 41.67%\n",
            "  Accuracy for k=4: 36.67%\n",
            "  Accuracy for k=5: 36.67%\n",
            "  Accuracy for k=6: 40.00%\n",
            "  Accuracy for k=7: 36.67%\n",
            "  Accuracy for k=8: 38.33%\n",
            "  Accuracy for k=9: 38.33%\n",
            "  Accuracy for k=10: 41.67%\n",
            "  Accuracy for k=11: 45.00%\n",
            "  Accuracy for k=12: 45.00%\n",
            "  Accuracy for k=13: 50.00%\n",
            "  Accuracy for k=14: 50.00%\n",
            "  Accuracy for k=15: 48.33%\n",
            "  Accuracy for k=16: 51.67%\n",
            "  Accuracy for k=17: 53.33%\n",
            "  Accuracy for k=18: 55.00%\n",
            "  Accuracy for k=19: 51.67%\n",
            "  Accuracy for k=20: 46.67%\n",
            "   Average Accuracy: 44.67%\n",
            "\n",
            "Fold 4:\n",
            "  Accuracy for k=1: 38.33%\n",
            "  Accuracy for k=2: 40.00%\n",
            "  Accuracy for k=3: 45.00%\n",
            "  Accuracy for k=4: 45.00%\n",
            "  Accuracy for k=5: 50.00%\n",
            "  Accuracy for k=6: 46.67%\n",
            "  Accuracy for k=7: 41.67%\n",
            "  Accuracy for k=8: 45.00%\n",
            "  Accuracy for k=9: 55.00%\n",
            "  Accuracy for k=10: 48.33%\n",
            "  Accuracy for k=11: 41.67%\n",
            "  Accuracy for k=12: 45.00%\n",
            "  Accuracy for k=13: 41.67%\n",
            "  Accuracy for k=14: 43.33%\n",
            "  Accuracy for k=15: 38.33%\n",
            "  Accuracy for k=16: 40.00%\n",
            "  Accuracy for k=17: 35.00%\n",
            "  Accuracy for k=18: 38.33%\n",
            "  Accuracy for k=19: 40.00%\n",
            "  Accuracy for k=20: 36.67%\n",
            "   Average Accuracy: 44.67%\n",
            "\n",
            "Fold 5:\n",
            "  Accuracy for k=1: 36.67%\n",
            "  Accuracy for k=2: 33.33%\n",
            "  Accuracy for k=3: 35.00%\n",
            "  Accuracy for k=4: 41.67%\n",
            "  Accuracy for k=5: 40.00%\n",
            "  Accuracy for k=6: 51.67%\n",
            "  Accuracy for k=7: 48.33%\n",
            "  Accuracy for k=8: 51.67%\n",
            "  Accuracy for k=9: 51.67%\n",
            "  Accuracy for k=10: 48.33%\n",
            "  Accuracy for k=11: 45.00%\n",
            "  Accuracy for k=12: 46.67%\n",
            "  Accuracy for k=13: 45.00%\n",
            "  Accuracy for k=14: 46.67%\n",
            "  Accuracy for k=15: 48.33%\n",
            "  Accuracy for k=16: 53.33%\n",
            "  Accuracy for k=17: 56.67%\n",
            "  Accuracy for k=18: 51.67%\n",
            "  Accuracy for k=19: 51.67%\n",
            "  Accuracy for k=20: 50.00%\n",
            "   Average Accuracy: 44.67%\n"
          ]
        }
      ]
    },
    {
      "cell_type": "markdown",
      "source": [
        "**Figure for Centroid Accuracy**"
      ],
      "metadata": {
        "id": "8K0Tio0nIeCb"
      }
    },
    {
      "cell_type": "code",
      "source": [
        "colors = ['red', 'blue', 'green', 'orange', 'purple']\n",
        "plt.figure(figsize=(12, 6))\n",
        "\n",
        "# Plot individual fold points\n",
        "for i in range(5):\n",
        "    plt.plot(k_values, [a*100 for a in fold_accuracies[i]],\n",
        "             linestyle='', marker='o', label=f'Fold {i+1}', color=colors[i])\n",
        "\n",
        "# Plot average line\n",
        "plt.plot(k_values, [a*100 for a in average_accuracies],\n",
        "         linestyle='-', marker='s', color='black', label='Average')\n",
        "\n",
        "plt.title(\"K vs Accuracy with 5-Fold Cross-Validation\")\n",
        "plt.xlabel(\"K (Number of Neighbors)\")\n",
        "plt.ylabel(\"Accuracy (%)\")\n",
        "plt.grid(True)\n",
        "plt.legend()\n",
        "plt.xticks(k_values)\n",
        "plt.show()\n"
      ],
      "metadata": {
        "colab": {
          "base_uri": "https://localhost:8080/",
          "height": 564
        },
        "id": "XxNQgTzjhUEN",
        "outputId": "54800c8a-d9d4-4b7d-9cdc-bd8011ac9e98"
      },
      "execution_count": 9,
      "outputs": [
        {
          "output_type": "display_data",
          "data": {
            "text/plain": [
              "<Figure size 1200x600 with 1 Axes>"
            ],
            "image/png": "[encoded data removed]"
          },
          "metadata": {}
        }
      ]
    }
  ]
}