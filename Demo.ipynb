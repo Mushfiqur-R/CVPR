{
 "cells": [
  {
   "cell_type": "code",
   "execution_count": 7,
   "id": "c059bae3",
   "metadata": {},
   "outputs": [],
   "source": [
    "import cv2\n",
    "import numpy as np\n",
    "from tensorflow.keras.models import load_model"
   ]
  },
  {
   "cell_type": "code",
   "execution_count": 8,
   "id": "fadb5b1d",
   "metadata": {},
   "outputs": [
    {
     "name": "stderr",
     "output_type": "stream",
     "text": [
      "WARNING:absl:Compiled the loaded model, but the compiled metrics have yet to be built. `model.compile_metrics` will be empty until you train or evaluate the model.\n"
     ]
    }
   ],
   "source": [
    "MODEL_PATH = \"my_model.h5\"  \n",
    "model = load_model(MODEL_PATH)"
   ]
  },
  {
   "cell_type": "code",
   "execution_count": 9,
   "id": "b4a1cca3",
   "metadata": {},
   "outputs": [],
   "source": [
    "def process_webcam_image(image):\n",
    "    gray = cv2.cvtColor(image, cv2.COLOR_BGR2GRAY)\n",
    "    gray = cv2.GaussianBlur(gray, (5,5), 0)\n",
    "    thresh = cv2.adaptiveThreshold(gray, 255,\n",
    "                                   cv2.ADAPTIVE_THRESH_GAUSSIAN_C,\n",
    "                                   cv2.THRESH_BINARY_INV, 11, 2)\n",
    "    thresh = cv2.medianBlur(thresh, 3)\n",
    "    thresh = cv2.dilate(thresh, np.ones((3,3), np.uint8), iterations=1)\n",
    "    contours, _ = cv2.findContours(thresh, cv2.RETR_EXTERNAL, cv2.CHAIN_APPROX_SIMPLE)\n",
    "    if contours:\n",
    "        largest = max(contours, key=cv2.contourArea)\n",
    "        x, y, w, h = cv2.boundingRect(largest)\n",
    "\n",
    "        size = max(w,h)\n",
    "        pad_w = (size - w)//2\n",
    "        pad_h = (size - h)//2\n",
    "\n",
    "        square = np.zeros((size, size), dtype=np.uint8)\n",
    "        square[pad_h:pad_h+h, pad_w:pad_w+w] = thresh[y:y+h, x:x+w]\n",
    "\n",
    "        resized = cv2.resize(square, (20,20))\n",
    "        canvas = np.zeros((28,28), dtype=np.uint8)\n",
    "        canvas[4:24, 4:24] = resized\n",
    "    else:\n",
    "        canvas = cv2.resize(thresh, (28,28))\n",
    "\n",
    "    final = canvas.astype(\"float32\") / 255.0\n",
    "    final = final.flatten()           # flatten to 784\n",
    "    final = np.expand_dims(final, axis=0)  # (1,784)\n",
    "    \n",
    "    return final, canvas\n"
   ]
  },
  {
   "cell_type": "code",
   "execution_count": 10,
   "id": "50f02f1d",
   "metadata": {},
   "outputs": [],
   "source": [
    "def webcam_prediction():\n",
    "    cap = cv2.VideoCapture(0)\n",
    "    if not cap.isOpened():\n",
    "        print(\"ERROR: Could not open webcam\")\n",
    "        return\n",
    "\n",
    "    print(\"Webcam ready! Draw numbers in the green box. Press 'q' to quit.\")\n",
    "    \n",
    "    while True:\n",
    "        ret, frame = cap.read()\n",
    "        if not ret:\n",
    "            break\n",
    "\n",
    "        h, w = frame.shape[:2]\n",
    "        roi_size = 150\n",
    "        x1 = (w - roi_size)//2\n",
    "        y1 = (h - roi_size)//2\n",
    "        x2 = x1 + roi_size\n",
    "        y2 = y1 + roi_size\n",
    "        display_frame = frame.copy()\n",
    "        cv2.rectangle(display_frame, (x1,y1), (x2,y2), (0,255,0), 2)\n",
    "\n",
    "        roi = frame[y1:y2, x1:x2]\n",
    "        processed, debug_img = process_webcam_image(roi)\n",
    "        prediction = model.predict(processed, verbose=0)\n",
    "        predicted_class = np.argmax(prediction)\n",
    "        confidence = np.max(prediction)\n",
    "\n",
    "        cv2.putText(display_frame, f\"Pred: {predicted_class}\", (10,30),\n",
    "                    cv2.FONT_HERSHEY_SIMPLEX, 1, (0,255,0), 2)\n",
    "        cv2.putText(display_frame, f\"Conf: {confidence:.2f}\", (10,70),\n",
    "                    cv2.FONT_HERSHEY_SIMPLEX, 0.7, (0,255,0), 2)\n",
    "\n",
    "        # Show what model sees\n",
    "        debug_display = cv2.resize(debug_img, (100,100))\n",
    "        debug_display = cv2.cvtColor(debug_display, cv2.COLOR_GRAY2BGR)\n",
    "        display_frame[10:110, w-110:w-10] = debug_display\n",
    "        cv2.putText(display_frame, \"CNN sees\", (w-105,120),\n",
    "                    cv2.FONT_HERSHEY_SIMPLEX, 0.4, (0,255,0), 1)\n",
    "\n",
    "        # Show webcam\n",
    "        cv2.imshow(\"MNIST Webcam Prediction\", display_frame)\n",
    "        key = cv2.waitKey(1) & 0xFF\n",
    "        if key == ord('q'):\n",
    "            break\n",
    "\n",
    "    cap.release()\n",
    "    cv2.destroyAllWindows()"
   ]
  },
  {
   "cell_type": "code",
   "execution_count": 11,
   "id": "6e79bc2e",
   "metadata": {},
   "outputs": [
    {
     "name": "stdout",
     "output_type": "stream",
     "text": [
      "Webcam ready! Draw numbers in the green box. Press 'q' to quit.\n"
     ]
    }
   ],
   "source": [
    "if __name__ == \"__main__\":\n",
    "    webcam_prediction()"
   ]
  }
 ],
 "metadata": {
  "kernelspec": {
   "display_name": "Python 3",
   "language": "python",
   "name": "python3"
  },
  "language_info": {
   "codemirror_mode": {
    "name": "ipython",
    "version": 3
   },
   "file_extension": ".py",
   "mimetype": "text/x-python",
   "name": "python",
   "nbconvert_exporter": "python",
   "pygments_lexer": "ipython3",
   "version": "3.12.4"
  }
 },
 "nbformat": 4,
 "nbformat_minor": 5
}
